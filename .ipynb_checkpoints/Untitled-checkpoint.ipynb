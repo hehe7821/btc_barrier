{
 "cells": [
  {
   "cell_type": "code",
   "execution_count": 16,
   "id": "a7851c54-2957-4520-808e-3ee215a565ab",
   "metadata": {},
   "outputs": [],
   "source": [
    "%load_ext autoreload\n",
    "%autoreload 2\n",
    "# import standard libs\n",
    "from IPython.display import display\n",
    "from IPython.core.debugger import set_trace as bp\n",
    "from pathlib import PurePath, Path\n",
    "import sys\n",
    "import time\n",
    "import datetime as dt\n",
    "from datetime import timedelta\n",
    "import multiprocessing as mp\n",
    "from datetime import datetime\n",
    "from collections import OrderedDict as od\n",
    "import re\n",
    "import os\n",
    "import json\n",
    "\n",
    "os.environ['THEANO_FLAGS'] = 'device=cpu,floatX=float32'\n",
    "\n",
    "# import python scientific stack\n",
    "import pandas as pd\n",
    "# import pandas_datareader.data as web\n",
    "from pandas import Timestamp\n",
    "pd.set_option('display.max_rows', 100)\n",
    "# from dask import dataframe as dd\n",
    "from dask.diagnostics import ProgressBar\n",
    "pbar = ProgressBar()\n",
    "pbar.register()\n",
    "import numpy as np\n",
    "# import scipy.stats as stats\n",
    "# import statsmodels.api as sm\n",
    "# from numba import jit\n",
    "import math\n",
    "# import pymc3 as pm\n",
    "# from theano import shared, theano as tt\n",
    "from sklearn.utils import resample\n",
    "from sklearn.utils import shuffle\n",
    "from sklearn.tree import DecisionTreeClassifier\n",
    "from sklearn.ensemble import RandomForestClassifier, RandomForestRegressor, BaggingClassifier\n",
    "from sklearn.model_selection import train_test_split\n",
    "from sklearn.metrics import classification_report\n",
    "from sklearn.metrics import confusion_matrix\n",
    "from sklearn.metrics import accuracy_score\n",
    "from sklearn.metrics import roc_curve, auc\n",
    "\n",
    "from itertools import cycle\n",
    "# from scipy import interp\n",
    "\n",
    "# import visual tools\n",
    "import matplotlib as mpl\n",
    "import matplotlib.pyplot as plt\n",
    "import matplotlib.gridspec as gridspec\n",
    "%matplotlib inline\n",
    "import seaborn as sns\n",
    "import plotly\n",
    "import plotly.graph_objects as go\n",
    "from plotly.subplots import make_subplots\n",
    "\n",
    "# plt.style.use('seaborn-talk')\n",
    "plt.style.use('bmh')\n",
    "\n",
    "#plt.rcParams['font.family'] = 'DejaVu Sans Mono'\n",
    "#plt.rcParams['font.size'] = 9.5\n",
    "plt.rcParams['font.weight'] = 'medium'\n",
    "#plt.rcParams['figure.figsize'] = 10,7\n",
    "blue, green, red, purple, gold, teal = sns.color_palette('colorblind', 6)\n",
    "\n",
    "# import util libs\n",
    "# import pyarrow as pa\n",
    "# import pyarrow.parquet as pq\n",
    "from tqdm import tqdm, tqdm_notebook\n",
    "import warnings\n",
    "warnings.filterwarnings(\"ignore\")\n",
    "# import missingno as msno\n",
    "# from google.colab import drive"
   ]
  },
  {
   "cell_type": "code",
   "execution_count": 56,
   "id": "804d8e81-ee61-4ea7-88f4-fa2cfacdd151",
   "metadata": {},
   "outputs": [],
   "source": [
    "class MultiProcessingFunctions:\n",
    "    \"\"\" This static functions in this class enable multi-processing \"\"\"\n",
    "\n",
    "    def __init__(self):\n",
    "        pass\n",
    "\n",
    "    @staticmethod\n",
    "    def lin_parts(num_atoms, num_threads):\n",
    "        \"\"\"Partition a list of atoms into subsets (molecules) of equal size.\"\"\"\n",
    "        parts = np.linspace(0, num_atoms, min(num_threads, num_atoms) + 1)\n",
    "        parts = np.ceil(parts).astype(int)\n",
    "        return parts\n",
    "\n",
    "    @staticmethod\n",
    "    def nested_parts(num_atoms, num_threads, upper_triangle=False):\n",
    "        \"\"\"Partition of atoms for nested loops (enables parallelization).\"\"\"\n",
    "        # parts = [] [] 빈 리스트로 하면 첫번째 실행할 때, 빈 리스트에 [-1]인덱스를 참조하면 out of range\n",
    "        parts = [0.0]\n",
    "        num_threads_ = min(num_threads, num_atoms)\n",
    "\n",
    "        for num in range(num_threads_):\n",
    "            part = 1 + 4 * (\n",
    "                parts[-1] ** 2 + parts[-1] + num_atoms * (num_atoms + 1.) / num_threads_\n",
    "            )\n",
    "            part = (-1 + part ** 0.5) / 2.\n",
    "            parts.append(part)\n",
    "\n",
    "        parts = np.round(parts).astype(int)\n",
    "\n",
    "        if upper_triangle:  # the first rows are heaviest\n",
    "            parts = np.cumsum(np.diff(parts)[::-1])\n",
    "            parts = np.append(np.array([0]), parts)\n",
    "        return parts\n",
    "\n",
    "    @staticmethod\n",
    "    def mp_pandas_obj(func, pd_obj, num_threads=24, mp_batches=1, lin_mols=True, **kargs):\n",
    "        \"\"\"\n",
    "        Parallelize a function across pandas objects.\n",
    "        :param func: function to be parallelized\n",
    "        :param pd_obj: ('arg_name', atoms) where atoms is an index-like sequence\n",
    "        :param num_threads: number of worker processes\n",
    "        :param mp_batches: multiplier for number of jobs\n",
    "        :param lin_mols: linear vs nested partitioning\n",
    "        :return: pandas Series/DataFrame or list of results\n",
    "        \"\"\"\n",
    "        atoms = pd_obj[1]\n",
    "        n_jobs = max(1, int(num_threads) * int(mp_batches))\n",
    "        if lin_mols:\n",
    "            parts = MultiProcessingFunctions.lin_parts(len(atoms), n_jobs)\n",
    "        else:\n",
    "            parts = MultiProcessingFunctions.nested_parts(len(atoms), n_jobs)\n",
    "\n",
    "        jobs = []\n",
    "        for i in range(1, len(parts)):\n",
    "            mol = atoms[parts[i - 1]:parts[i]]\n",
    "            if len(mol) == 0:\n",
    "                continue\n",
    "            job = {pd_obj[0]: mol, 'func': func}\n",
    "            job.update(kargs)\n",
    "            jobs.append(job)\n",
    "\n",
    "        if len(jobs) == 0:\n",
    "            return pd.Series(dtype=float)\n",
    "\n",
    "        out = (\n",
    "            MultiProcessingFunctions.process_jobs_(jobs)\n",
    "            if num_threads == 1\n",
    "            else MultiProcessingFunctions.process_jobs(jobs, num_threads=num_threads)\n",
    "        )\n",
    "\n",
    "        out = [o for o in out if o is not None]\n",
    "        if len(out) == 0:\n",
    "            return pd.Series(dtype=float)\n",
    "\n",
    "        first = out[0]\n",
    "        if isinstance(first, pd.DataFrame):\n",
    "            out = [o.to_frame().T if isinstance(o, pd.Series) else o for o in out]\n",
    "            return pd.concat(out, axis=0, copy=False).sort_index()\n",
    "        elif isinstance(first, pd.Series):\n",
    "            out = [o if isinstance(o, pd.Series) else pd.Series(o) for o in out]\n",
    "            return pd.concat(out, axis=0, copy=False).sort_index()\n",
    "        else:\n",
    "            return out\n",
    "\n",
    "    @staticmethod\n",
    "    def process_jobs_(jobs):\n",
    "        \"\"\"Run jobs sequentially (debugging).\"\"\"\n",
    "        out = []\n",
    "        for job in jobs:\n",
    "            out_ = MultiProcessingFunctions.expand_call(job)\n",
    "            out.append(out_)\n",
    "        return out\n",
    "\n",
    "    @staticmethod\n",
    "    def expand_call(kargs):\n",
    "        \"\"\"Expand arguments of a callback function.\"\"\"\n",
    "        func = kargs['func']\n",
    "        del kargs['func']\n",
    "        return func(**kargs)\n",
    "\n",
    "    @staticmethod\n",
    "    def report_progress(job_num, num_jobs, time0, task):\n",
    "        \"\"\"Report progress of async jobs.\"\"\"\n",
    "        msg = [float(job_num) / num_jobs, (time.time() - time0) / 60.]\n",
    "        msg.append(msg[1] * (1 / msg[0] - 1))\n",
    "        time_stamp = str(dt.datetime.fromtimestamp(time.time()))\n",
    "\n",
    "        msg = (\n",
    "            time_stamp + \" \" + str(round(msg[0] * 100, 2)) + \"% \" + task +\n",
    "            \" done after \" + str(round(msg[1], 2)) +\n",
    "            \" minutes. Remaining \" + str(round(msg[2], 2)) + \" minutes.\"\n",
    "        )\n",
    "\n",
    "        if job_num < num_jobs:\n",
    "            sys.stderr.write(msg + \"\\r\")\n",
    "        else:\n",
    "            sys.stderr.write(msg + \"\\n\")\n",
    "\n",
    "    @staticmethod\n",
    "    def process_jobs(jobs, task=None, num_threads=24):\n",
    "        \"\"\"Run jobs in parallel.\"\"\"\n",
    "        if task is None:\n",
    "            task = jobs[0]['func'].__name__\n",
    "\n",
    "        pool = mp.Pool(processes=num_threads)\n",
    "        outputs = pool.imap_unordered(MultiProcessingFunctions.expand_call, jobs)\n",
    "        out = []\n",
    "        time0 = time.time()\n",
    "\n",
    "        for i, out_ in enumerate(outputs, 1):\n",
    "            out.append(out_)\n",
    "            MultiProcessingFunctions.report_progress(i, len(jobs), time0, task)\n",
    "\n",
    "        pool.close()\n",
    "        pool.join()\n",
    "        return out\n"
   ]
  },
  {
   "cell_type": "code",
   "execution_count": 71,
   "id": "9cb8681c-fe66-4e13-89d6-531d79a786d7",
   "metadata": {},
   "outputs": [],
   "source": [
    "## plot for grid search\n",
    "def plot_search_results(grid):\n",
    "    \"\"\"\n",
    "    Params: \n",
    "        grid: A trained GridSearchCV object.\n",
    "    \"\"\"\n",
    "    ## Results from grid search\n",
    "    results = grid.cv_results_\n",
    "    means_test = results['mean_test_score']\n",
    "    stds_test = results['std_test_score']\n",
    "\n",
    "    ## Getting indexes of values per hyper-parameter\n",
    "    masks=[]\n",
    "    masks_names= list(grid.best_params_.keys())\n",
    "    for p_k, p_v in grid.best_params_.items():\n",
    "        masks.append(list(results['param_'+p_k].data==p_v))\n",
    "\n",
    "    params=grid.param_grid\n",
    "\n",
    "    ## Ploting results\n",
    "    fig, ax = plt.subplots(1,len(params),sharex='none', sharey='all',figsize=(20,5))\n",
    "    fig.suptitle('Score per parameter')\n",
    "    fig.text(0.04, 0.5, 'MEAN SCORE', va='center', rotation='vertical')\n",
    "    pram_preformace_in_best = {}\n",
    "    for i, p in enumerate(masks_names):\n",
    "        m = np.stack(masks[:i] + masks[i+1:])\n",
    "        pram_preformace_in_best\n",
    "        best_parms_mask = m.all(axis=0)\n",
    "        best_index = np.where(best_parms_mask)[0]\n",
    "        x = np.array(params[p])\n",
    "        y_1 = np.array(means_test[best_index])\n",
    "        e_1 = np.array(stds_test[best_index])\n",
    "        ax[i].errorbar(x, y_1, e_1, linestyle='--', marker='o', label='test')\n",
    "        ax[i].set_xlabel(p.upper())\n",
    "\n",
    "    plt.legend()\n",
    "    plt.show()"
   ]
  },
  {
   "cell_type": "code",
   "execution_count": 58,
   "id": "f351f5f5-9eb5-4925-8b26-99f8a14d668c",
   "metadata": {},
   "outputs": [],
   "source": [
    "def apply_pt_sl_on_t1(close, events, pt_sl, molecule):\n",
    "    \"\"\"\n",
    "    :param close: (series) close prices\n",
    "    :param events: (series) of indices that signify \"events\" \n",
    "    :param pt_sl: (array) element 0, indicates the profit taking level; \n",
    "                          element 1 is stop loss level\n",
    "    :param molecule: (an array) a set of datetime index values for processing\n",
    "    :return: (dataframe) timestamps at which each barrier was touched\n",
    "    \"\"\"\n",
    "    # apply stop loss/profit taking, if it takes place before t1 (end of event)\n",
    "    events_ = events.loc[molecule]\n",
    "    out = events_[['t1']].copy(deep=True)\n",
    "    if pt_sl[0] > 0:\n",
    "        pt = pt_sl[0] * events_['trgt']\n",
    "    else:\n",
    "        pt = pd.Series(index=events.index)  # NaNs\n",
    "\n",
    "    if pt_sl[1] > 0:\n",
    "        sl = -pt_sl[1] * events_['trgt']\n",
    "    else:\n",
    "        sl = pd.Series(index=events.index)  # NaNs\n",
    "\n",
    "    for loc, t1 in events_['t1'].fillna(close.index[-1]).items():\n",
    "        df0 = close[loc:t1]  # path prices\n",
    "        df0 = (df0 / close[loc] - 1) * events_.at[loc, 'side']  # path returns 수익률(사이드 반영)\n",
    "        out.loc[loc, 'sl'] = df0[df0 < sl[loc]].index.min()  # earliest stop loss\n",
    "        out.loc[loc, 'pt'] = df0[df0 > pt[loc]].index.min()  # earliest profit taking\n",
    "\n",
    "    return out"
   ]
  },
  {
   "cell_type": "code",
   "execution_count": 1,
   "id": "31ad7bf8-a3d9-45dc-ba8e-130ecf9bfe6d",
   "metadata": {},
   "outputs": [],
   "source": [
    "def lin_parts(num_atoms, num_threads):\n",
    "    \"\"\"Partition a list of atoms into subsets (molecules) of equal size.\"\"\"\n",
    "    parts = np.linspace(0, num_atoms, min(num_threads, num_atoms) + 1)\n",
    "    parts = np.ceil(parts).astype(int)\n",
    "    return parts"
   ]
  },
  {
   "cell_type": "code",
   "execution_count": 3,
   "id": "fcdbae7e-cc5b-4379-b7a7-544d5ef33a10",
   "metadata": {},
   "outputs": [],
   "source": [
    "import numpy as np\n",
    "\n",
    "a = 10\n",
    "b = 3\n",
    "\n",
    "part = lin_parts(a , b)"
   ]
  },
  {
   "cell_type": "code",
   "execution_count": 4,
   "id": "c9630f51-89fa-4379-8a08-9338221b7bd6",
   "metadata": {},
   "outputs": [
    {
     "data": {
      "text/plain": [
       "array([ 0,  4,  7, 10])"
      ]
     },
     "execution_count": 4,
     "metadata": {},
     "output_type": "execute_result"
    }
   ],
   "source": [
    "part"
   ]
  },
  {
   "cell_type": "code",
   "execution_count": 11,
   "id": "b3f36e9f-b521-47ee-98c1-8d28953df846",
   "metadata": {},
   "outputs": [],
   "source": [
    "def nested_parts(num_atoms, num_threads, upper_triangle=False):   #[part-1]\n",
    "        \"\"\"Partition of atoms for nested loops (enables parallelization).\"\"\"\n",
    "        parts = [0.0]\n",
    "        num_threads_ = min(num_threads, num_atoms)\n",
    "\n",
    "        for num in range(num_threads_):\n",
    "            part = 1 + 4 * (\n",
    "                parts[-1] ** 2 + parts[-1] + num_atoms * (num_atoms + 1.) / num_threads_\n",
    "            )\n",
    "            part = (-1 + part ** 0.5) / 2.\n",
    "            parts.append(part)\n",
    "\n",
    "        parts = np.round(parts).astype(int)\n",
    "\n",
    "        if upper_triangle:  # the first rows are heaviest\n",
    "            parts = np.cumsum(np.diff(parts)[::-1])\n",
    "            parts = np.append(np.array([0]), parts)\n",
    "        return parts"
   ]
  },
  {
   "cell_type": "code",
   "execution_count": 12,
   "id": "876c3b16-d7c0-492c-a56e-2053cf3b6e76",
   "metadata": {},
   "outputs": [],
   "source": [
    "parts = nested_parts(a,b, False)"
   ]
  },
  {
   "cell_type": "code",
   "execution_count": 13,
   "id": "a999bcad-b0fe-444f-84aa-20625e350da3",
   "metadata": {},
   "outputs": [
    {
     "data": {
      "text/plain": [
       "array([ 0,  6,  8, 10])"
      ]
     },
     "execution_count": 13,
     "metadata": {},
     "output_type": "execute_result"
    }
   ],
   "source": [
    "parts"
   ]
  },
  {
   "cell_type": "markdown",
   "id": "54378404-7480-4a85-88c3-ce81e0542df8",
   "metadata": {},
   "source": [
    "---"
   ]
  },
  {
   "cell_type": "code",
   "execution_count": 19,
   "id": "7829291f-99da-4dc9-b276-9ec47048be96",
   "metadata": {},
   "outputs": [],
   "source": [
    "def bbands(close_prices, window, no_of_stdev):\n",
    "    # rolling_mean = close_prices.rolling(window=window).mean()\n",
    "    # rolling_std = close_prices.rolling(window=window).std()\n",
    "    rolling_mean = close_prices.ewm(span=window).mean()\n",
    "    rolling_std = close_prices.ewm(span=window).std()\n",
    "\n",
    "    upper_band = rolling_mean + (rolling_std * no_of_stdev)\n",
    "    lower_band = rolling_mean - (rolling_std * no_of_stdev)\n",
    "\n",
    "    return rolling_mean, upper_band, lower_band"
   ]
  },
  {
   "cell_type": "code",
   "execution_count": 26,
   "id": "9d426113-674c-4c40-bd4b-6892807a21bd",
   "metadata": {},
   "outputs": [],
   "source": [
    "def get_dollar_bars(time_bars, dollar_threshold):\n",
    "\n",
    "    # initialize an empty list of dollar bars\n",
    "    dollar_bars = []\n",
    "\n",
    "    # initialize the running dollar volume at zero\n",
    "    running_volume = 0\n",
    "\n",
    "    # initialize the running high and low with placeholder values\n",
    "    running_high, running_low = 0, math.inf\n",
    "\n",
    "    # for each time bar...\n",
    "    for i in range(len(time_bars)):\n",
    "\n",
    "        # get the timestamp, open, high, low, close, and volume of the next bar\n",
    "        next_close, next_high, next_low, next_open, next_timestamp, next_volume = [time_bars[i][k] for k in ['close', 'high', 'low', 'open', 'timestamp', 'vol']]\n",
    "\n",
    "        # get the midpoint price of the next bar (the average of the open and the close)\n",
    "        midpoint_price = ((next_open) + (next_close))/2\n",
    "\n",
    "        # get the approximate dollar volume of the bar using the volume and the midpoint price\n",
    "        dollar_volume = next_volume * midpoint_price\n",
    "\n",
    "        # update the running high and low\n",
    "        running_high, running_low = max(running_high, next_high), min(running_low, next_low)\n",
    "\n",
    "        # if the next bar's dollar volume would take us over the threshold...\n",
    "        if dollar_volume + running_volume >= dollar_threshold:\n",
    "\n",
    "            # set the timestamp for the dollar bar as the timestamp at which the bar closed (i.e. one minute after the timestamp of the last minutely bar included in the dollar bar)\n",
    "            bar_timestamp = next_timestamp + timedelta(minutes=1)\n",
    "            \n",
    "            # add a new dollar bar to the list of dollar bars with the timestamp, running high/low, and next close\n",
    "            dollar_bars += [{'timestamp': bar_timestamp, 'open': next_open, 'high': running_high, 'low': running_low, 'close': next_close}]\n",
    "\n",
    "            # reset the running volume to zero\n",
    "            running_volume = 0\n",
    "\n",
    "            # reset the running high and low to placeholder values\n",
    "            running_high, running_low = 0, math.inf\n",
    "\n",
    "        # otherwise, increment the running volume\n",
    "        else:\n",
    "            running_volume += dollar_volume\n",
    "\n",
    "    # return the list of dollar bars\n",
    "    return dollar_bars"
   ]
  },
  {
   "cell_type": "code",
   "execution_count": 14,
   "id": "f4f1b4d4-09ec-4bcc-81da-18e690ebd0a1",
   "metadata": {},
   "outputs": [],
   "source": [
    "def get_daily_vol(close, lookback=100):\n",
    "    \"\"\"\n",
    "    :param close: (data frame) Closing prices\n",
    "    :param lookback: (int) lookback period to compute volatility\n",
    "    :return: (series) of daily volatility value\n",
    "    \"\"\"\n",
    "    print('Calculating daily volatility for dynamic thresholds')\n",
    "    \n",
    "    df0 = close.index.searchsorted(close.index - pd.Timedelta(days=1))\n",
    "    df0 = df0[df0 > 0]\n",
    "    df0 = (pd.Series(close.index[df0 - 1], index=close.index[close.shape[0] - df0.shape[0]:]))\n",
    "        \n",
    "    df0 = close.loc[df0.index] / close.loc[df0.values].values - 1  # daily returns\n",
    "    df0 = df0.ewm(span=lookback).std()\n",
    "    return df0"
   ]
  },
  {
   "cell_type": "code",
   "execution_count": 17,
   "id": "aeab8c3f-a3ae-439d-aee9-614e14f310cb",
   "metadata": {},
   "outputs": [
    {
     "data": {
      "text/html": [
       "<div>\n",
       "<style scoped>\n",
       "    .dataframe tbody tr th:only-of-type {\n",
       "        vertical-align: middle;\n",
       "    }\n",
       "\n",
       "    .dataframe tbody tr th {\n",
       "        vertical-align: top;\n",
       "    }\n",
       "\n",
       "    .dataframe thead th {\n",
       "        text-align: right;\n",
       "    }\n",
       "</style>\n",
       "<table border=\"1\" class=\"dataframe\">\n",
       "  <thead>\n",
       "    <tr style=\"text-align: right;\">\n",
       "      <th></th>\n",
       "      <th>timestamp</th>\n",
       "      <th>open</th>\n",
       "      <th>high</th>\n",
       "      <th>low</th>\n",
       "      <th>close</th>\n",
       "      <th>vol</th>\n",
       "    </tr>\n",
       "  </thead>\n",
       "  <tbody>\n",
       "    <tr>\n",
       "      <th>4259707</th>\n",
       "      <td>2025-09-28 06:59:00</td>\n",
       "      <td>109410.00</td>\n",
       "      <td>109410.0</td>\n",
       "      <td>109409.99</td>\n",
       "      <td>109410.00</td>\n",
       "      <td>0.73075</td>\n",
       "    </tr>\n",
       "    <tr>\n",
       "      <th>4259708</th>\n",
       "      <td>2025-09-28 07:00:00</td>\n",
       "      <td>109410.00</td>\n",
       "      <td>109410.0</td>\n",
       "      <td>109409.99</td>\n",
       "      <td>109409.99</td>\n",
       "      <td>0.99541</td>\n",
       "    </tr>\n",
       "    <tr>\n",
       "      <th>4259709</th>\n",
       "      <td>2025-09-28 07:01:00</td>\n",
       "      <td>109409.99</td>\n",
       "      <td>109410.0</td>\n",
       "      <td>109409.99</td>\n",
       "      <td>109410.00</td>\n",
       "      <td>0.68273</td>\n",
       "    </tr>\n",
       "    <tr>\n",
       "      <th>4259710</th>\n",
       "      <td>2025-09-28 07:02:00</td>\n",
       "      <td>109410.00</td>\n",
       "      <td>109410.0</td>\n",
       "      <td>109409.99</td>\n",
       "      <td>109409.99</td>\n",
       "      <td>1.10861</td>\n",
       "    </tr>\n",
       "    <tr>\n",
       "      <th>4259711</th>\n",
       "      <td>2025-09-28 07:03:00</td>\n",
       "      <td>109409.99</td>\n",
       "      <td>109410.0</td>\n",
       "      <td>109409.99</td>\n",
       "      <td>109410.00</td>\n",
       "      <td>0.59584</td>\n",
       "    </tr>\n",
       "  </tbody>\n",
       "</table>\n",
       "</div>"
      ],
      "text/plain": [
       "                  timestamp       open      high        low      close  \\\n",
       "4259707 2025-09-28 06:59:00  109410.00  109410.0  109409.99  109410.00   \n",
       "4259708 2025-09-28 07:00:00  109410.00  109410.0  109409.99  109409.99   \n",
       "4259709 2025-09-28 07:01:00  109409.99  109410.0  109409.99  109410.00   \n",
       "4259710 2025-09-28 07:02:00  109410.00  109410.0  109409.99  109409.99   \n",
       "4259711 2025-09-28 07:03:00  109409.99  109410.0  109409.99  109410.00   \n",
       "\n",
       "             vol  \n",
       "4259707  0.73075  \n",
       "4259708  0.99541  \n",
       "4259709  0.68273  \n",
       "4259710  1.10861  \n",
       "4259711  0.59584  "
      ]
     },
     "execution_count": 17,
     "metadata": {},
     "output_type": "execute_result"
    }
   ],
   "source": [
    "#download the data into your google drive to use the following code\n",
    "infp=PurePath('BTCUSDT_1min.csv')\n",
    "\n",
    "#import data and set timestamps as index\n",
    "data = pd.read_csv(infp)   \n",
    "data['open_time']= pd.to_datetime((data['open_time']))\n",
    "\n",
    "data = data[['open_time', 'open', 'high', 'low', 'close', 'volume']]\n",
    "data.rename(columns = {'open_time':'timestamp', 'open':'open', 'high':'high', 'low':'low','close':'close', 'volume':'vol'},\n",
    "            inplace = True)\n",
    "\n",
    "data.tail() #  ~ 2022-09-30 20:25:00"
   ]
  },
  {
   "cell_type": "code",
   "execution_count": 22,
   "id": "c7878bf7-1181-4929-8146-572146d0f834",
   "metadata": {},
   "outputs": [
    {
     "data": {
      "text/html": [
       "<div>\n",
       "<style scoped>\n",
       "    .dataframe tbody tr th:only-of-type {\n",
       "        vertical-align: middle;\n",
       "    }\n",
       "\n",
       "    .dataframe tbody tr th {\n",
       "        vertical-align: top;\n",
       "    }\n",
       "\n",
       "    .dataframe thead th {\n",
       "        text-align: right;\n",
       "    }\n",
       "</style>\n",
       "<table border=\"1\" class=\"dataframe\">\n",
       "  <thead>\n",
       "    <tr style=\"text-align: right;\">\n",
       "      <th></th>\n",
       "      <th>timestamp</th>\n",
       "      <th>open</th>\n",
       "      <th>high</th>\n",
       "      <th>low</th>\n",
       "      <th>close</th>\n",
       "      <th>vol</th>\n",
       "    </tr>\n",
       "  </thead>\n",
       "  <tbody>\n",
       "    <tr>\n",
       "      <th>0</th>\n",
       "      <td>2017-07-14 04:00:00</td>\n",
       "      <td>0.08</td>\n",
       "      <td>0.08</td>\n",
       "      <td>0.08</td>\n",
       "      <td>0.08</td>\n",
       "      <td>0.043</td>\n",
       "    </tr>\n",
       "    <tr>\n",
       "      <th>1</th>\n",
       "      <td>2017-07-14 04:01:00</td>\n",
       "      <td>0.08</td>\n",
       "      <td>0.08</td>\n",
       "      <td>0.08</td>\n",
       "      <td>0.08</td>\n",
       "      <td>0.000</td>\n",
       "    </tr>\n",
       "    <tr>\n",
       "      <th>2</th>\n",
       "      <td>2017-07-14 04:02:00</td>\n",
       "      <td>0.08</td>\n",
       "      <td>0.08</td>\n",
       "      <td>0.08</td>\n",
       "      <td>0.08</td>\n",
       "      <td>0.306</td>\n",
       "    </tr>\n",
       "    <tr>\n",
       "      <th>3</th>\n",
       "      <td>2017-07-14 04:03:00</td>\n",
       "      <td>0.08</td>\n",
       "      <td>0.08</td>\n",
       "      <td>0.08</td>\n",
       "      <td>0.08</td>\n",
       "      <td>0.212</td>\n",
       "    </tr>\n",
       "    <tr>\n",
       "      <th>4</th>\n",
       "      <td>2017-07-14 04:04:00</td>\n",
       "      <td>0.08</td>\n",
       "      <td>0.08</td>\n",
       "      <td>0.08</td>\n",
       "      <td>0.08</td>\n",
       "      <td>0.165</td>\n",
       "    </tr>\n",
       "  </tbody>\n",
       "</table>\n",
       "</div>"
      ],
      "text/plain": [
       "            timestamp  open  high   low  close    vol\n",
       "0 2017-07-14 04:00:00  0.08  0.08  0.08   0.08  0.043\n",
       "1 2017-07-14 04:01:00  0.08  0.08  0.08   0.08  0.000\n",
       "2 2017-07-14 04:02:00  0.08  0.08  0.08   0.08  0.306\n",
       "3 2017-07-14 04:03:00  0.08  0.08  0.08   0.08  0.212\n",
       "4 2017-07-14 04:04:00  0.08  0.08  0.08   0.08  0.165"
      ]
     },
     "execution_count": 22,
     "metadata": {},
     "output_type": "execute_result"
    }
   ],
   "source": [
    "#download the data into your google drive to use the following code\n",
    "infp=PurePath('ETHBTC_1min.csv')\n",
    "\n",
    "#import data and set timestamps as index\n",
    "data2 = pd.read_csv(infp)   \n",
    "data2['open_time']= pd.to_datetime((data2['open_time']))\n",
    "\n",
    "data2 = data2[['open_time', 'open', 'high', 'low', 'close', 'volume']]\n",
    "data2.rename(columns = {'open_time':'timestamp', 'open':'open', 'high':'high', 'low':'low','close':'close', 'volume':'vol'},\n",
    "            inplace = True)\n",
    "\n",
    "data2.head()"
   ]
  },
  {
   "cell_type": "code",
   "execution_count": 23,
   "id": "f0256a93-63db-449a-bdaf-56466cfc1e9a",
   "metadata": {},
   "outputs": [
    {
     "data": {
      "text/plain": [
       "{'timestamp': Timestamp('2017-08-17 04:00:00'),\n",
       " 'open': 4261.48,\n",
       " 'high': 4261.48,\n",
       " 'low': 4261.48,\n",
       " 'close': 4261.48,\n",
       " 'vol': 1.775183}"
      ]
     },
     "execution_count": 23,
     "metadata": {},
     "output_type": "execute_result"
    }
   ],
   "source": [
    "# dollar bar : 5 million threshold\n",
    "data_dict = data.to_dict('records') # 각 row를 딕셔너리로 해서 리스트 변환\n",
    "data_dict[0]"
   ]
  },
  {
   "cell_type": "code",
   "execution_count": 27,
   "id": "837a693d-0b86-413a-961b-c8cdae93889e",
   "metadata": {},
   "outputs": [
    {
     "data": {
      "text/html": [
       "<div>\n",
       "<style scoped>\n",
       "    .dataframe tbody tr th:only-of-type {\n",
       "        vertical-align: middle;\n",
       "    }\n",
       "\n",
       "    .dataframe tbody tr th {\n",
       "        vertical-align: top;\n",
       "    }\n",
       "\n",
       "    .dataframe thead th {\n",
       "        text-align: right;\n",
       "    }\n",
       "</style>\n",
       "<table border=\"1\" class=\"dataframe\">\n",
       "  <thead>\n",
       "    <tr style=\"text-align: right;\">\n",
       "      <th></th>\n",
       "      <th>open</th>\n",
       "      <th>high</th>\n",
       "      <th>low</th>\n",
       "      <th>close</th>\n",
       "    </tr>\n",
       "    <tr>\n",
       "      <th>timestamp</th>\n",
       "      <th></th>\n",
       "      <th></th>\n",
       "      <th></th>\n",
       "      <th></th>\n",
       "    </tr>\n",
       "  </thead>\n",
       "  <tbody>\n",
       "    <tr>\n",
       "      <th>2017-08-17 14:39:00</th>\n",
       "      <td>4484.00</td>\n",
       "      <td>4485.39</td>\n",
       "      <td>4261.32</td>\n",
       "      <td>4484.00</td>\n",
       "    </tr>\n",
       "    <tr>\n",
       "      <th>2017-08-17 18:09:00</th>\n",
       "      <td>4231.87</td>\n",
       "      <td>4485.39</td>\n",
       "      <td>4218.68</td>\n",
       "      <td>4231.87</td>\n",
       "    </tr>\n",
       "    <tr>\n",
       "      <th>2017-08-17 22:39:00</th>\n",
       "      <td>4328.24</td>\n",
       "      <td>4369.69</td>\n",
       "      <td>4200.74</td>\n",
       "      <td>4341.96</td>\n",
       "    </tr>\n",
       "    <tr>\n",
       "      <th>2017-08-18 01:27:00</th>\n",
       "      <td>4202.75</td>\n",
       "      <td>4359.13</td>\n",
       "      <td>4134.61</td>\n",
       "      <td>4219.88</td>\n",
       "    </tr>\n",
       "    <tr>\n",
       "      <th>2017-08-18 05:39:00</th>\n",
       "      <td>4330.82</td>\n",
       "      <td>4330.82</td>\n",
       "      <td>4200.60</td>\n",
       "      <td>4295.40</td>\n",
       "    </tr>\n",
       "  </tbody>\n",
       "</table>\n",
       "</div>"
      ],
      "text/plain": [
       "                        open     high      low    close\n",
       "timestamp                                              \n",
       "2017-08-17 14:39:00  4484.00  4485.39  4261.32  4484.00\n",
       "2017-08-17 18:09:00  4231.87  4485.39  4218.68  4231.87\n",
       "2017-08-17 22:39:00  4328.24  4369.69  4200.74  4341.96\n",
       "2017-08-18 01:27:00  4202.75  4359.13  4134.61  4219.88\n",
       "2017-08-18 05:39:00  4330.82  4330.82  4200.60  4295.40"
      ]
     },
     "execution_count": 27,
     "metadata": {},
     "output_type": "execute_result"
    }
   ],
   "source": [
    "dollar_bars = get_dollar_bars(data_dict, 1000000) #5,000,000 is an arbitrarily selected threshold\n",
    "data_db = pd.DataFrame(dollar_bars)\n",
    "data_db = data_db.set_index('timestamp')\n",
    "data_db.head()"
   ]
  },
  {
   "cell_type": "code",
   "execution_count": 28,
   "id": "8d16eb36-9251-4684-997f-623699f350c0",
   "metadata": {},
   "outputs": [
    {
     "data": {
      "text/html": [
       "<div>\n",
       "<style scoped>\n",
       "    .dataframe tbody tr th:only-of-type {\n",
       "        vertical-align: middle;\n",
       "    }\n",
       "\n",
       "    .dataframe tbody tr th {\n",
       "        vertical-align: top;\n",
       "    }\n",
       "\n",
       "    .dataframe thead th {\n",
       "        text-align: right;\n",
       "    }\n",
       "</style>\n",
       "<table border=\"1\" class=\"dataframe\">\n",
       "  <thead>\n",
       "    <tr style=\"text-align: right;\">\n",
       "      <th></th>\n",
       "      <th>open</th>\n",
       "      <th>high</th>\n",
       "      <th>low</th>\n",
       "      <th>close</th>\n",
       "      <th>vol</th>\n",
       "      <th>eth_close</th>\n",
       "    </tr>\n",
       "    <tr>\n",
       "      <th>timestamp</th>\n",
       "      <th></th>\n",
       "      <th></th>\n",
       "      <th></th>\n",
       "      <th></th>\n",
       "      <th></th>\n",
       "      <th></th>\n",
       "    </tr>\n",
       "  </thead>\n",
       "  <tbody>\n",
       "    <tr>\n",
       "      <th>2017-08-17 04:00:00</th>\n",
       "      <td>4261.48</td>\n",
       "      <td>4261.48</td>\n",
       "      <td>4261.48</td>\n",
       "      <td>4261.48</td>\n",
       "      <td>1.775183</td>\n",
       "      <td>300.783781</td>\n",
       "    </tr>\n",
       "    <tr>\n",
       "      <th>2017-08-17 04:01:00</th>\n",
       "      <td>4261.48</td>\n",
       "      <td>4261.48</td>\n",
       "      <td>4261.48</td>\n",
       "      <td>4261.48</td>\n",
       "      <td>0.000000</td>\n",
       "      <td>300.677244</td>\n",
       "    </tr>\n",
       "    <tr>\n",
       "      <th>2017-08-17 04:02:00</th>\n",
       "      <td>4280.56</td>\n",
       "      <td>4280.56</td>\n",
       "      <td>4280.56</td>\n",
       "      <td>4280.56</td>\n",
       "      <td>0.261074</td>\n",
       "      <td>302.126205</td>\n",
       "    </tr>\n",
       "    <tr>\n",
       "      <th>2017-08-17 04:03:00</th>\n",
       "      <td>4261.48</td>\n",
       "      <td>4261.48</td>\n",
       "      <td>4261.48</td>\n",
       "      <td>4261.48</td>\n",
       "      <td>0.012008</td>\n",
       "      <td>300.178651</td>\n",
       "    </tr>\n",
       "    <tr>\n",
       "      <th>2017-08-17 04:04:00</th>\n",
       "      <td>4261.48</td>\n",
       "      <td>4261.48</td>\n",
       "      <td>4261.48</td>\n",
       "      <td>4261.48</td>\n",
       "      <td>0.140796</td>\n",
       "      <td>299.778072</td>\n",
       "    </tr>\n",
       "  </tbody>\n",
       "</table>\n",
       "</div>"
      ],
      "text/plain": [
       "                        open     high      low    close       vol   eth_close\n",
       "timestamp                                                                    \n",
       "2017-08-17 04:00:00  4261.48  4261.48  4261.48  4261.48  1.775183  300.783781\n",
       "2017-08-17 04:01:00  4261.48  4261.48  4261.48  4261.48  0.000000  300.677244\n",
       "2017-08-17 04:02:00  4280.56  4280.56  4280.56  4280.56  0.261074  302.126205\n",
       "2017-08-17 04:03:00  4261.48  4261.48  4261.48  4261.48  0.012008  300.178651\n",
       "2017-08-17 04:04:00  4261.48  4261.48  4261.48  4261.48  0.140796  299.778072"
      ]
     },
     "execution_count": 28,
     "metadata": {},
     "output_type": "execute_result"
    }
   ],
   "source": [
    "data = data.set_index('timestamp')\n",
    "data2 = data2.set_index('timestamp')\n",
    "data['eth_close'] = data['close'].mul(data2['close']).dropna()\n",
    "data.head()"
   ]
  },
  {
   "cell_type": "code",
   "execution_count": 29,
   "id": "1c2c5703-57da-46d3-8775-0328972a50f0",
   "metadata": {},
   "outputs": [
    {
     "data": {
      "text/html": [
       "<div>\n",
       "<style scoped>\n",
       "    .dataframe tbody tr th:only-of-type {\n",
       "        vertical-align: middle;\n",
       "    }\n",
       "\n",
       "    .dataframe tbody tr th {\n",
       "        vertical-align: top;\n",
       "    }\n",
       "\n",
       "    .dataframe thead th {\n",
       "        text-align: right;\n",
       "    }\n",
       "</style>\n",
       "<table border=\"1\" class=\"dataframe\">\n",
       "  <thead>\n",
       "    <tr style=\"text-align: right;\">\n",
       "      <th></th>\n",
       "      <th>open</th>\n",
       "      <th>high</th>\n",
       "      <th>low</th>\n",
       "      <th>close</th>\n",
       "      <th>eth_close</th>\n",
       "    </tr>\n",
       "    <tr>\n",
       "      <th>timestamp</th>\n",
       "      <th></th>\n",
       "      <th></th>\n",
       "      <th></th>\n",
       "      <th></th>\n",
       "      <th></th>\n",
       "    </tr>\n",
       "  </thead>\n",
       "  <tbody>\n",
       "    <tr>\n",
       "      <th>2017-08-17 14:39:00</th>\n",
       "      <td>4484.00</td>\n",
       "      <td>4485.39</td>\n",
       "      <td>4261.32</td>\n",
       "      <td>4484.00</td>\n",
       "      <td>308.956568</td>\n",
       "    </tr>\n",
       "    <tr>\n",
       "      <th>2017-08-17 18:09:00</th>\n",
       "      <td>4231.87</td>\n",
       "      <td>4485.39</td>\n",
       "      <td>4218.68</td>\n",
       "      <td>4231.87</td>\n",
       "      <td>299.675642</td>\n",
       "    </tr>\n",
       "    <tr>\n",
       "      <th>2017-08-17 22:39:00</th>\n",
       "      <td>4328.24</td>\n",
       "      <td>4369.69</td>\n",
       "      <td>4200.74</td>\n",
       "      <td>4341.96</td>\n",
       "      <td>307.189328</td>\n",
       "    </tr>\n",
       "    <tr>\n",
       "      <th>2017-08-18 01:27:00</th>\n",
       "      <td>4202.75</td>\n",
       "      <td>4359.13</td>\n",
       "      <td>4134.61</td>\n",
       "      <td>4219.88</td>\n",
       "      <td>297.100590</td>\n",
       "    </tr>\n",
       "    <tr>\n",
       "      <th>2017-08-18 05:39:00</th>\n",
       "      <td>4330.82</td>\n",
       "      <td>4330.82</td>\n",
       "      <td>4200.60</td>\n",
       "      <td>4295.40</td>\n",
       "      <td>306.080515</td>\n",
       "    </tr>\n",
       "  </tbody>\n",
       "</table>\n",
       "</div>"
      ],
      "text/plain": [
       "                        open     high      low    close   eth_close\n",
       "timestamp                                                          \n",
       "2017-08-17 14:39:00  4484.00  4485.39  4261.32  4484.00  308.956568\n",
       "2017-08-17 18:09:00  4231.87  4485.39  4218.68  4231.87  299.675642\n",
       "2017-08-17 22:39:00  4328.24  4369.69  4200.74  4341.96  307.189328\n",
       "2017-08-18 01:27:00  4202.75  4359.13  4134.61  4219.88  297.100590\n",
       "2017-08-18 05:39:00  4330.82  4330.82  4200.60  4295.40  306.080515"
      ]
     },
     "execution_count": 29,
     "metadata": {},
     "output_type": "execute_result"
    }
   ],
   "source": [
    "data_db = pd.concat([data_db, data['eth_close']], join = 'inner', axis = 1)\n",
    "data_db.head()"
   ]
  },
  {
   "cell_type": "code",
   "execution_count": 30,
   "id": "09b599ab-8a14-437f-9f3c-1c9a83d36d6a",
   "metadata": {},
   "outputs": [
    {
     "name": "stdout",
     "output_type": "stream",
     "text": [
      "side\n",
      " 1.0    57944\n",
      "-1.0    55498\n",
      "Name: count, dtype: int64\n"
     ]
    }
   ],
   "source": [
    "import copy\n",
    "data_w = copy.deepcopy(data)\n",
    "\n",
    "# compute bands\n",
    "window = 50\n",
    "data_w['avg'], data_w['upper'], data_w['lower'] = bbands(data_w['close'], window, no_of_stdev=2)\n",
    "\n",
    "# compute sides\n",
    "data_w['side'] = np.nan\n",
    "long_signals = (data_w['close'] <= data_w['lower'])\n",
    "short_signals = (data_w['close'] >= data_w['upper'])\n",
    "data_w.loc[long_signals, 'side'] = 1\n",
    "data_w.loc[short_signals, 'side'] = -1\n",
    "\n",
    "print(data_w.side.value_counts())\n",
    "\n",
    "# Remove Look ahead biase by lagging the signal\n",
    "data_w['side'] = data_w['side'].shift(1) #다음 1분이 숏이다 롱이다. 편의상 1분이라는 기간을 뒀다. 그 다음 1분동안이 신호다.\n",
    "\n",
    "# Drop the NaN values from our data set\n",
    "data_w.dropna(axis=0, how='any', inplace=True)  "
   ]
  },
  {
   "cell_type": "code",
   "execution_count": 32,
   "id": "d8938d53-71ca-4d8f-a740-ff39e0356e03",
   "metadata": {},
   "outputs": [
    {
     "name": "stdout",
     "output_type": "stream",
     "text": [
      "Calculating daily volatility for dynamic thresholds\n"
     ]
    }
   ],
   "source": [
    "close = data_w['close']\n",
    "\n",
    "daily_vol = get_daily_vol(close=close, lookback=50)"
   ]
  },
  {
   "cell_type": "code",
   "execution_count": 40,
   "id": "8fda943c-f178-4af0-bf94-b23c2ab82431",
   "metadata": {},
   "outputs": [
    {
     "data": {
      "text/plain": [
       "timestamp\n",
       "2017-08-18 05:18:00         NaN\n",
       "2017-08-18 05:19:00    0.004795\n",
       "2017-08-18 06:35:00    0.004079\n",
       "2017-08-18 06:42:00    0.007376\n",
       "2017-08-18 06:46:00    0.010103\n",
       "                         ...   \n",
       "2025-09-28 06:28:00    0.007829\n",
       "2025-09-28 06:29:00    0.007675\n",
       "2025-09-28 06:30:00    0.007525\n",
       "2025-09-28 06:31:00    0.007377\n",
       "2025-09-28 06:32:00    0.007232\n",
       "Name: close, Length: 113397, dtype: float64"
      ]
     },
     "execution_count": 40,
     "metadata": {},
     "output_type": "execute_result"
    }
   ],
   "source": [
    "daily_vol"
   ]
  },
  {
   "cell_type": "code",
   "execution_count": 39,
   "id": "29cb3173-072d-43c4-8e12-c2abc6832727",
   "metadata": {},
   "outputs": [
    {
     "data": {
      "text/plain": [
       "(113397,)"
      ]
     },
     "execution_count": 39,
     "metadata": {},
     "output_type": "execute_result"
    }
   ],
   "source": [
    "daily_vol.shape"
   ]
  },
  {
   "cell_type": "code",
   "execution_count": 49,
   "id": "4858b48a-4a67-4949-a805-7ced56086290",
   "metadata": {},
   "outputs": [
    {
     "data": {
      "text/plain": [
       "timestamp\n",
       "2017-08-17 04:02:00      4280.56\n",
       "2017-08-17 04:31:00      4274.67\n",
       "2017-08-17 04:35:00      4300.38\n",
       "2017-08-17 04:36:00      4300.38\n",
       "2017-08-17 04:37:00      4300.38\n",
       "                         ...    \n",
       "2025-09-28 06:28:00    109304.86\n",
       "2025-09-28 06:29:00    109280.01\n",
       "2025-09-28 06:30:00    109269.91\n",
       "2025-09-28 06:31:00    109266.15\n",
       "2025-09-28 06:32:00    109287.99\n",
       "Name: close, Length: 113442, dtype: float64"
      ]
     },
     "execution_count": 49,
     "metadata": {},
     "output_type": "execute_result"
    }
   ],
   "source": [
    "close"
   ]
  },
  {
   "cell_type": "code",
   "execution_count": 38,
   "id": "c02cbc07-b014-4bbd-aec8-c72a5a68bff1",
   "metadata": {},
   "outputs": [
    {
     "data": {
      "text/plain": [
       "(113442,)"
      ]
     },
     "execution_count": 38,
     "metadata": {},
     "output_type": "execute_result"
    }
   ],
   "source": [
    "close.shape"
   ]
  },
  {
   "cell_type": "code",
   "execution_count": 44,
   "id": "88512729-8d92-47a1-b616-62fee7a8c412",
   "metadata": {},
   "outputs": [],
   "source": [
    "def get_t_events(raw_price, threshold):\n",
    "    \"\"\"\n",
    "    :param raw_price: (series) of close prices.\n",
    "    :param threshold: (float) when the abs(change) is larger than the threshold, the\n",
    "    function captures it as an event.\n",
    "    :return: (datetime index vector) vector of datetimes when the events occurred. This is used later to sample.\n",
    "    \"\"\"\n",
    "    print('Applying Symmetric CUSUM filter.')\n",
    "\n",
    "    t_events = []\n",
    "    s_pos = 0\n",
    "    s_neg = 0\n",
    "\n",
    "    # log returns\n",
    "    diff = np.log(raw_price).diff().dropna()\n",
    "\n",
    "    # Get event time stamps for the entire series\n",
    "    for i in tqdm(diff.index[1:]):\n",
    "        pos = float(s_pos + diff.loc[i])\n",
    "        neg = float(s_neg + diff.loc[i])\n",
    "        s_pos = max(0.0, pos)\n",
    "        s_neg = min(0.0, neg)\n",
    "\n",
    "        if s_neg < -threshold:\n",
    "            s_neg = 0\n",
    "            t_events.append(i)\n",
    "\n",
    "        elif s_pos > threshold:\n",
    "            s_pos = 0\n",
    "            t_events.append(i)\n",
    "\n",
    "    event_timestamps = pd.DatetimeIndex(t_events)\n",
    "    print('get_t_event over.')\n",
    "    return event_timestamps"
   ]
  },
  {
   "cell_type": "code",
   "execution_count": 45,
   "id": "d16ac703-d5f4-4a1e-b6cf-8c9c794b4165",
   "metadata": {},
   "outputs": [
    {
     "name": "stdout",
     "output_type": "stream",
     "text": [
      "Applying Symmetric CUSUM filter.\n"
     ]
    },
    {
     "name": "stderr",
     "output_type": "stream",
     "text": [
      "100%|███████████████████████████████████████████████████████████████████████| 113440/113440 [00:01<00:00, 88913.92it/s]"
     ]
    },
    {
     "name": "stdout",
     "output_type": "stream",
     "text": [
      "get_t_event over.\n"
     ]
    },
    {
     "name": "stderr",
     "output_type": "stream",
     "text": [
      "\n"
     ]
    }
   ],
   "source": [
    "cusum_events = get_t_events(close, threshold=daily_vol.mean()*0.1)"
   ]
  },
  {
   "cell_type": "code",
   "execution_count": 46,
   "id": "84fad95d-af33-4d01-86b4-e5657a9282ce",
   "metadata": {},
   "outputs": [
    {
     "data": {
      "text/plain": [
       "DatetimeIndex(['2017-08-17 04:35:00', '2017-08-17 06:36:00',\n",
       "               '2017-08-17 07:30:00', '2017-08-17 08:06:00',\n",
       "               '2017-08-17 09:32:00', '2017-08-17 09:34:00',\n",
       "               '2017-08-17 15:25:00', '2017-08-17 15:33:00',\n",
       "               '2017-08-17 15:36:00', '2017-08-17 16:09:00',\n",
       "               ...\n",
       "               '2025-09-26 14:27:00', '2025-09-26 16:20:00',\n",
       "               '2025-09-26 17:27:00', '2025-09-26 21:15:00',\n",
       "               '2025-09-27 01:42:00', '2025-09-27 03:33:00',\n",
       "               '2025-09-27 07:34:00', '2025-09-27 21:39:00',\n",
       "               '2025-09-28 00:26:00', '2025-09-28 01:09:00'],\n",
       "              dtype='datetime64[ns]', length=49468, freq=None)"
      ]
     },
     "execution_count": 46,
     "metadata": {},
     "output_type": "execute_result"
    }
   ],
   "source": [
    "cusum_events"
   ]
  },
  {
   "cell_type": "code",
   "execution_count": 48,
   "id": "c4c027c5-1c46-4e64-9c21-3fee76cd1b80",
   "metadata": {},
   "outputs": [
    {
     "name": "stdout",
     "output_type": "stream",
     "text": [
      "DatetimeIndex(['2017-08-17 04:35:00', '2017-08-17 06:36:00',\n",
      "               '2017-08-17 07:30:00', '2017-08-17 08:06:00',\n",
      "               '2017-08-17 09:32:00', '2017-08-17 09:34:00',\n",
      "               '2017-08-17 15:25:00', '2017-08-17 15:33:00',\n",
      "               '2017-08-17 15:36:00', '2017-08-17 16:09:00',\n",
      "               ...\n",
      "               '2025-09-26 14:27:00', '2025-09-26 16:20:00',\n",
      "               '2025-09-26 17:27:00', '2025-09-26 21:15:00',\n",
      "               '2025-09-27 01:42:00', '2025-09-27 03:33:00',\n",
      "               '2025-09-27 07:34:00', '2025-09-27 21:39:00',\n",
      "               '2025-09-28 00:26:00', '2025-09-28 01:09:00'],\n",
      "              dtype='datetime64[ns]', length=49468, freq=None)\n"
     ]
    }
   ],
   "source": [
    "print(cusum_events)"
   ]
  },
  {
   "cell_type": "code",
   "execution_count": 47,
   "id": "4cab1d61-7850-4c44-9843-36185e0e4054",
   "metadata": {},
   "outputs": [
    {
     "data": {
      "text/plain": [
       "(49468,)"
      ]
     },
     "execution_count": 47,
     "metadata": {},
     "output_type": "execute_result"
    }
   ],
   "source": [
    "cusum_events.shape"
   ]
  },
  {
   "cell_type": "code",
   "execution_count": 42,
   "id": "24afff46-99b3-4495-b0a5-e1a5a04b6e9b",
   "metadata": {},
   "outputs": [],
   "source": [
    "def get_events(close, t_events, pt_sl, target, min_ret, num_threads, \n",
    "              vertical_barrier_times=False, side=None):\n",
    "    \"\"\"\n",
    "    :param close: (series) Close prices\n",
    "    :param t_events: (series) of t_events. \n",
    "                     These are timestamps that will seed every triple barrier.\n",
    "    :param pt_sl: (2 element array) element 0, indicates the profit taking level; \n",
    "                  element 1 is stop loss level.\n",
    "                  A non-negative float that sets the width of the two barriers. \n",
    "                  A 0 value means that the respective horizontal barrier will be disabled.\n",
    "    :param target: (series) of values that are used (in conjunction with pt_sl)\n",
    "                   to determine the width of the barrier.\n",
    "    :param min_ret: (float) The minimum target return required for running a triple barrier search.\n",
    "    :param num_threads: (int) The number of threads concurrently used by the function.\n",
    "    :param vertical_barrier_times: (series) A pandas series with the timestamps of the vertical barriers.\n",
    "    :param side: (series) Side of the bet (long/short) as decided by the primary model\n",
    "    :return: (data frame) of events\n",
    "            -events.index is event's starttime\n",
    "            -events['t1'] is event's endtime\n",
    "            -events['trgt'] is event's target\n",
    "            -events['side'] (optional) implies the algo's position side\n",
    "    \"\"\"\n",
    "    print('get_events start')\n",
    "    # 1) Get target\n",
    "    target = target.loc[target.index.intersection(t_events)]\n",
    "    target = target[target > min_ret]  # min_ret\n",
    "\n",
    "    # 2) Get vertical barrier (max holding period)\n",
    "    if vertical_barrier_times is False:\n",
    "        vertical_barrier_times = pd.Series(pd.NaT, index=t_events)\n",
    "\n",
    "    # 3) Form events object, apply stop loss on vertical barrier\n",
    "    if side is None:\n",
    "        side_ = pd.Series(1., index=target.index)\n",
    "        pt_sl_ = [pt_sl[0], pt_sl[0]]\n",
    "    else:\n",
    "        side_ = side.loc[target.index]\n",
    "        pt_sl_ = pt_sl[:2]\n",
    "\n",
    "    events = pd.concat({'t1': vertical_barrier_times, 'trgt': target, 'side': side_},\n",
    "                        axis=1)\n",
    "    events = events.dropna(subset=['trgt'])\n",
    "\n",
    "    print('MultiProcessing mp_pandas start')\n",
    "    # Apply Triple Barrier\n",
    "    df0 = MultiProcessingFunctions.mp_pandas_obj(func=apply_pt_sl_on_t1,\n",
    "                                                 pd_obj=('molecule', events.index),\n",
    "                                                 num_threads=num_threads,\n",
    "                                                 close=close,\n",
    "                                                 events=events,\n",
    "                                                 pt_sl=pt_sl_)\n",
    "\n",
    "    print('MultiProcessing mp_pandas stop')\n",
    "    events['t1'] = df0.dropna(how='all').min(axis=1)  # pd.min ignores nan\n",
    "\n",
    "    if side is None:\n",
    "        events = events.drop('side', axis=1)\n",
    "    print('get_events stop')\n",
    "    return events"
   ]
  },
  {
   "cell_type": "code",
   "execution_count": 77,
   "id": "e616a6c3-13fe-419d-8424-06a62cb029e4",
   "metadata": {},
   "outputs": [],
   "source": [
    "def add_vertical_barrier(t_events, close, num_days=1):\n",
    "    \"\"\"\n",
    "    :param t_events: (series) series of events (symmetric CUSUM filter)\n",
    "    :param close: (series) close prices\n",
    "    :param num_days: (int) maximum number of days a trade can be active\n",
    "    :return: (series) timestamps of vertical barriers\n",
    "    \"\"\"\n",
    "    print( 'vertical_barrier start')\n",
    "    t1 = close.index.searchsorted(t_events + pd.Timedelta(days=num_days))\n",
    "    print(t1)\n",
    "    t1 = t1[t1 < close.shape[0]]\n",
    "    print(t1)\n",
    "    t1 = pd.Series(close.index[t1], index=t_events[:t1.shape[0]])  # NaNs at end\n",
    "    print('vertical_barrier over')\n",
    "    return t1"
   ]
  },
  {
   "cell_type": "code",
   "execution_count": 78,
   "id": "3e23ae2c-249b-4280-aa26-815b20ee892d",
   "metadata": {},
   "outputs": [
    {
     "name": "stdout",
     "output_type": "stream",
     "text": [
      "vertical_barrier start\n",
      "[    26     28     28 ... 113442 113442 113442]\n",
      "[    26     28     28 ... 113408 113413 113422]\n",
      "vertical_barrier over\n"
     ]
    }
   ],
   "source": [
    "vertical_barriers = add_vertical_barrier(t_events=cusum_events,\n",
    "                                         close=close, num_days=0.5)"
   ]
  },
  {
   "cell_type": "code",
   "execution_count": 53,
   "id": "bd19a4b7-3cd1-4340-b473-8fc349362404",
   "metadata": {},
   "outputs": [
    {
     "data": {
      "text/plain": [
       "2017-08-17 04:35:00   2017-08-17 17:58:00\n",
       "2017-08-17 06:36:00   2017-08-17 21:56:00\n",
       "2017-08-17 07:30:00   2017-08-17 21:56:00\n",
       "2017-08-17 08:06:00   2017-08-17 21:56:00\n",
       "2017-08-17 09:32:00   2017-08-17 21:56:00\n",
       "                              ...        \n",
       "2025-09-26 17:27:00   2025-09-27 05:40:00\n",
       "2025-09-26 21:15:00   2025-09-27 10:37:00\n",
       "2025-09-27 01:42:00   2025-09-27 14:47:00\n",
       "2025-09-27 03:33:00   2025-09-27 15:38:00\n",
       "2025-09-27 07:34:00   2025-09-27 20:17:00\n",
       "Name: timestamp, Length: 49465, dtype: datetime64[ns]"
      ]
     },
     "execution_count": 53,
     "metadata": {},
     "output_type": "execute_result"
    }
   ],
   "source": [
    "vertical_barriers"
   ]
  },
  {
   "cell_type": "code",
   "execution_count": 63,
   "id": "0595361f-cdbf-4210-9964-3c98eee8f2e3",
   "metadata": {},
   "outputs": [
    {
     "data": {
      "text/plain": [
       "(49465,)"
      ]
     },
     "execution_count": 63,
     "metadata": {},
     "output_type": "execute_result"
    }
   ],
   "source": [
    "vertical_barriers.shape"
   ]
  },
  {
   "cell_type": "code",
   "execution_count": 59,
   "id": "97ac1377-67ce-4d9d-8f4d-cdf7c85ec694",
   "metadata": {},
   "outputs": [
    {
     "name": "stdout",
     "output_type": "stream",
     "text": [
      "get_events start\n",
      "MultiProcessing mp_pandas start\n",
      "MultiProcessing mp_pandas stop\n",
      "get_events stop\n"
     ]
    }
   ],
   "source": [
    "pt_sl = [1, 2] # setting profit-take and stop-loss at 1% and 2%          2% 떨어지면 손절 , 1% 이익이 나면 손절 사용자에게 직접 입력받음\n",
    "min_ret = 0.0005 # setting a minimum return of 0.05%                     0.05% 최소 수익률..\n",
    "\n",
    "triple_barrier_events = get_events(close=close,\n",
    "                                  t_events=cusum_events,\n",
    "                                  pt_sl=pt_sl,\n",
    "                                  target=daily_vol,\n",
    "                                  min_ret=min_ret,\n",
    "                                  num_threads=1,\n",
    "                                  vertical_barrier_times=vertical_barriers,\n",
    "                                  side=data_w['side'])"
   ]
  },
  {
   "cell_type": "code",
   "execution_count": 61,
   "id": "4350dcda-fa0c-4486-8d8b-b68da3d1f5fc",
   "metadata": {},
   "outputs": [
    {
     "data": {
      "text/html": [
       "<div>\n",
       "<style scoped>\n",
       "    .dataframe tbody tr th:only-of-type {\n",
       "        vertical-align: middle;\n",
       "    }\n",
       "\n",
       "    .dataframe tbody tr th {\n",
       "        vertical-align: top;\n",
       "    }\n",
       "\n",
       "    .dataframe thead th {\n",
       "        text-align: right;\n",
       "    }\n",
       "</style>\n",
       "<table border=\"1\" class=\"dataframe\">\n",
       "  <thead>\n",
       "    <tr style=\"text-align: right;\">\n",
       "      <th></th>\n",
       "      <th>t1</th>\n",
       "      <th>trgt</th>\n",
       "      <th>side</th>\n",
       "    </tr>\n",
       "  </thead>\n",
       "  <tbody>\n",
       "    <tr>\n",
       "      <th>2017-08-18 05:19:00</th>\n",
       "      <td>2017-08-18 06:46:00</td>\n",
       "      <td>0.004795</td>\n",
       "      <td>-1.0</td>\n",
       "    </tr>\n",
       "    <tr>\n",
       "      <th>2017-08-18 06:46:00</th>\n",
       "      <td>2017-08-18 08:32:00</td>\n",
       "      <td>0.010103</td>\n",
       "      <td>1.0</td>\n",
       "    </tr>\n",
       "    <tr>\n",
       "      <th>2017-08-18 08:32:00</th>\n",
       "      <td>2017-08-18 08:48:00</td>\n",
       "      <td>0.009257</td>\n",
       "      <td>-1.0</td>\n",
       "    </tr>\n",
       "    <tr>\n",
       "      <th>2017-08-18 08:33:00</th>\n",
       "      <td>2017-08-18 08:48:00</td>\n",
       "      <td>0.008787</td>\n",
       "      <td>-1.0</td>\n",
       "    </tr>\n",
       "    <tr>\n",
       "      <th>2017-08-18 08:48:00</th>\n",
       "      <td>2017-08-18 10:14:00</td>\n",
       "      <td>0.009836</td>\n",
       "      <td>1.0</td>\n",
       "    </tr>\n",
       "  </tbody>\n",
       "</table>\n",
       "</div>"
      ],
      "text/plain": [
       "                                     t1      trgt  side\n",
       "2017-08-18 05:19:00 2017-08-18 06:46:00  0.004795  -1.0\n",
       "2017-08-18 06:46:00 2017-08-18 08:32:00  0.010103   1.0\n",
       "2017-08-18 08:32:00 2017-08-18 08:48:00  0.009257  -1.0\n",
       "2017-08-18 08:33:00 2017-08-18 08:48:00  0.008787  -1.0\n",
       "2017-08-18 08:48:00 2017-08-18 10:14:00  0.009836   1.0"
      ]
     },
     "execution_count": 61,
     "metadata": {},
     "output_type": "execute_result"
    }
   ],
   "source": [
    "triple_barrier_events.head()"
   ]
  },
  {
   "cell_type": "code",
   "execution_count": 62,
   "id": "37175ee2-94e1-48f7-ba57-8cd12e9de47d",
   "metadata": {},
   "outputs": [
    {
     "data": {
      "text/plain": [
       "(49444, 3)"
      ]
     },
     "execution_count": 62,
     "metadata": {},
     "output_type": "execute_result"
    }
   ],
   "source": [
    "triple_barrier_events.shape"
   ]
  },
  {
   "cell_type": "code",
   "execution_count": 64,
   "id": "87b8e52b-af6c-4a76-8dbd-189f75f59056",
   "metadata": {},
   "outputs": [],
   "source": [
    "def get_bins(triple_barrier_events, close):\n",
    "    \"\"\"\n",
    "    :param triple_barrier_events: (data frame)\n",
    "                -events.index is event's starttime\n",
    "                -events['t1'] is event's endtime\n",
    "                -events['trgt'] is event's target\n",
    "                -events['side'] (optional) implies the algo's position side\n",
    "                Case 1: ('side' not in events): bin in (-1,1) <-label by price action\n",
    "                Case 2: ('side' in events): bin in (0,1) <-label by pnl (meta-labeling)\n",
    "    :param close: (series) close prices\n",
    "    :return: (data frame) of meta-labeled events\n",
    "    \"\"\"\n",
    "\n",
    "    # 1) Align prices with their respective events\n",
    "    events_ = triple_barrier_events.dropna(subset=['t1'])\n",
    "    prices = events_.index.union(events_['t1'].values)\n",
    "    prices = prices.drop_duplicates()\n",
    "    prices = close.reindex(prices, method='bfill')\n",
    "    \n",
    "    # 2) Create out DataFrame\n",
    "    out_df = pd.DataFrame(index=events_.index)\n",
    "    # Need to take the log returns, else your results will be skewed for short positions\n",
    "    out_df['ret'] = np.log(prices.loc[events_['t1'].values].values) - np.log(prices.loc[events_.index])\n",
    "    out_df['trgt'] = events_['trgt']\n",
    "\n",
    "    # Meta labeling: Events that were correct will have pos returns\n",
    "    if 'side' in events_:\n",
    "        out_df['ret'] = out_df['ret'] * events_['side']  # meta-labeling\n",
    "\n",
    "    # Added code: label 0 when vertical barrier reached\n",
    "    out_df = barrier_touched(out_df)\n",
    "\n",
    "    # Meta labeling: label incorrect events with a 0\n",
    "    if 'side' in events_:\n",
    "        out_df.loc[out_df['ret'] <= 0, 'bin'] = 0\n",
    "    \n",
    "    # Transform the log returns back to normal returns.\n",
    "    out_df['ret'] = np.exp(out_df['ret']) - 1\n",
    "    \n",
    "    # Add the side to the output. This is useful for when a meta label model must be fit\n",
    "    tb_cols = triple_barrier_events.columns\n",
    "    if 'side' in tb_cols:\n",
    "        out_df['side'] = triple_barrier_events['side']\n",
    "        \n",
    "    out_df\n"
   ]
  },
  {
   "cell_type": "code",
   "execution_count": 66,
   "id": "ec2a701e-a89f-4518-9ab7-b72a25c416bb",
   "metadata": {},
   "outputs": [],
   "source": [
    "def barrier_touched(out_df):\n",
    "    \"\"\"\n",
    "    :param out_df: (DataFrame) containing the returns and target\n",
    "    :return: (DataFrame) containing returns, target, and labels\n",
    "    \"\"\"\n",
    "    store = []\n",
    "    for i in np.arange(len(out_df)):\n",
    "        date_time = out_df.index[i]\n",
    "        ret = out_df.loc[date_time, 'ret']\n",
    "        target = out_df.loc[date_time, 'trgt']\n",
    "\n",
    "        if ret > 0.0 and ret > target:\n",
    "            # Top barrier reached\n",
    "            store.append(1)\n",
    "        elif ret < 0.0 and ret < -target:\n",
    "            # Bottom barrier reached\n",
    "            store.append(-1)\n",
    "        else:\n",
    "            # Vertical barrier reached\n",
    "            store.append(0)\n",
    "\n",
    "    out_df['bin'] = store\n",
    "\n",
    "    return out_df"
   ]
  },
  {
   "cell_type": "code",
   "execution_count": 72,
   "id": "7a376eaa-b35f-49f3-b243-db1243fd83af",
   "metadata": {},
   "outputs": [
    {
     "ename": "AttributeError",
     "evalue": "'NoneType' object has no attribute 'side'",
     "output_type": "error",
     "traceback": [
      "\u001b[31m---------------------------------------------------------------------------\u001b[39m",
      "\u001b[31mAttributeError\u001b[39m                            Traceback (most recent call last)",
      "\u001b[36mCell\u001b[39m\u001b[36m \u001b[39m\u001b[32mIn[72]\u001b[39m\u001b[32m, line 2\u001b[39m\n\u001b[32m      1\u001b[39m labels = get_bins(triple_barrier_events, data_w[\u001b[33m'\u001b[39m\u001b[33mclose\u001b[39m\u001b[33m'\u001b[39m])\n\u001b[32m----> \u001b[39m\u001b[32m2\u001b[39m \u001b[43mlabels\u001b[49m\u001b[43m.\u001b[49m\u001b[43mside\u001b[49m.value_counts()\n\u001b[32m      3\u001b[39m labels\n",
      "\u001b[31mAttributeError\u001b[39m: 'NoneType' object has no attribute 'side'"
     ]
    }
   ],
   "source": [
    "labels = get_bins(triple_barrier_events, data_w['close'])\n",
    "labels.side.value_counts()\n",
    "labels"
   ]
  },
  {
   "cell_type": "code",
   "execution_count": 69,
   "id": "4c17b725-1c56-42d7-b6be-729b054d0408",
   "metadata": {},
   "outputs": [
    {
     "name": "stdout",
     "output_type": "stream",
     "text": [
      "None\n"
     ]
    }
   ],
   "source": [
    "print(labels)"
   ]
  },
  {
   "cell_type": "code",
   "execution_count": null,
   "id": "adf104d8-bd0e-4e04-8cd9-2f4a09979d97",
   "metadata": {},
   "outputs": [],
   "source": []
  }
 ],
 "metadata": {
  "kernelspec": {
   "display_name": "Python 3 (ipykernel)",
   "language": "python",
   "name": "python3"
  },
  "language_info": {
   "codemirror_mode": {
    "name": "ipython",
    "version": 3
   },
   "file_extension": ".py",
   "mimetype": "text/x-python",
   "name": "python",
   "nbconvert_exporter": "python",
   "pygments_lexer": "ipython3",
   "version": "3.12.11"
  }
 },
 "nbformat": 4,
 "nbformat_minor": 5
}
