{
 "cells": [
  {
   "cell_type": "code",
   "execution_count": 1,
   "id": "31ad7bf8-a3d9-45dc-ba8e-130ecf9bfe6d",
   "metadata": {},
   "outputs": [],
   "source": [
    "def lin_parts(num_atoms, num_threads):\n",
    "    \"\"\"Partition a list of atoms into subsets (molecules) of equal size.\"\"\"\n",
    "    parts = np.linspace(0, num_atoms, min(num_threads, num_atoms) + 1)\n",
    "    parts = np.ceil(parts).astype(int)\n",
    "    return parts"
   ]
  },
  {
   "cell_type": "code",
   "execution_count": 3,
   "id": "fcdbae7e-cc5b-4379-b7a7-544d5ef33a10",
   "metadata": {},
   "outputs": [],
   "source": [
    "import numpy as np\n",
    "\n",
    "a = 10\n",
    "b = 3\n",
    "\n",
    "part = lin_parts(a , b)"
   ]
  },
  {
   "cell_type": "code",
   "execution_count": 4,
   "id": "c9630f51-89fa-4379-8a08-9338221b7bd6",
   "metadata": {},
   "outputs": [
    {
     "data": {
      "text/plain": [
       "array([ 0,  4,  7, 10])"
      ]
     },
     "execution_count": 4,
     "metadata": {},
     "output_type": "execute_result"
    }
   ],
   "source": [
    "part"
   ]
  },
  {
   "cell_type": "code",
   "execution_count": 5,
   "id": "b3f36e9f-b521-47ee-98c1-8d28953df846",
   "metadata": {},
   "outputs": [],
   "source": [
    "def nested_parts(num_atoms, num_threads, upper_triangle=False):\n",
    "        \"\"\"Partition of atoms for nested loops (enables parallelization).\"\"\"\n",
    "        parts = []\n",
    "        num_threads_ = min(num_threads, num_atoms)\n",
    "\n",
    "        for num in range(num_threads_):\n",
    "            part = 1 + 4 * (\n",
    "                parts[-1] ** 2 + parts[-1] + num_atoms * (num_atoms + 1.) / num_threads_\n",
    "            )\n",
    "            part = (-1 + part ** 0.5) / 2.\n",
    "            parts.append(part)\n",
    "\n",
    "        parts = np.round(parts).astype(int)\n",
    "\n",
    "        if upper_triangle:  # the first rows are heaviest\n",
    "            parts = np.cumsum(np.diff(parts)[::-1])\n",
    "            parts = np.append(np.array([0]), parts)\n",
    "        return parts"
   ]
  },
  {
   "cell_type": "code",
   "execution_count": 9,
   "id": "876c3b16-d7c0-492c-a56e-2053cf3b6e76",
   "metadata": {},
   "outputs": [
    {
     "ename": "IndexError",
     "evalue": "list index out of range",
     "output_type": "error",
     "traceback": [
      "\u001b[31m---------------------------------------------------------------------------\u001b[39m",
      "\u001b[31mIndexError\u001b[39m                                Traceback (most recent call last)",
      "\u001b[36mCell\u001b[39m\u001b[36m \u001b[39m\u001b[32mIn[9]\u001b[39m\u001b[32m, line 1\u001b[39m\n\u001b[32m----> \u001b[39m\u001b[32m1\u001b[39m parts = \u001b[43mnested_parts\u001b[49m\u001b[43m(\u001b[49m\u001b[43ma\u001b[49m\u001b[43m,\u001b[49m\u001b[43mb\u001b[49m\u001b[43m,\u001b[49m\u001b[43m \u001b[49m\u001b[38;5;28;43;01mTrue\u001b[39;49;00m\u001b[43m)\u001b[49m\n",
      "\u001b[36mCell\u001b[39m\u001b[36m \u001b[39m\u001b[32mIn[5]\u001b[39m\u001b[32m, line 8\u001b[39m, in \u001b[36mnested_parts\u001b[39m\u001b[34m(num_atoms, num_threads, upper_triangle)\u001b[39m\n\u001b[32m      4\u001b[39m num_threads_ = \u001b[38;5;28mmin\u001b[39m(num_threads, num_atoms)\n\u001b[32m      6\u001b[39m \u001b[38;5;28;01mfor\u001b[39;00m num \u001b[38;5;129;01min\u001b[39;00m \u001b[38;5;28mrange\u001b[39m(num_threads_):\n\u001b[32m      7\u001b[39m     part = \u001b[32m1\u001b[39m + \u001b[32m4\u001b[39m * (\n\u001b[32m----> \u001b[39m\u001b[32m8\u001b[39m         \u001b[43mparts\u001b[49m\u001b[43m[\u001b[49m\u001b[43m-\u001b[49m\u001b[32;43m1\u001b[39;49m\u001b[43m]\u001b[49m ** \u001b[32m2\u001b[39m + parts[-\u001b[32m1\u001b[39m] + num_atoms * (num_atoms + \u001b[32m1.\u001b[39m) / num_threads_\n\u001b[32m      9\u001b[39m     )\n\u001b[32m     10\u001b[39m     part = (-\u001b[32m1\u001b[39m + part ** \u001b[32m0.5\u001b[39m) / \u001b[32m2.\u001b[39m\n\u001b[32m     11\u001b[39m     parts.append(part)\n",
      "\u001b[31mIndexError\u001b[39m: list index out of range"
     ]
    }
   ],
   "source": [
    "parts = nested_parts(a,b, False)"
   ]
  },
  {
   "cell_type": "code",
   "execution_count": null,
   "id": "a999bcad-b0fe-444f-84aa-20625e350da3",
   "metadata": {},
   "outputs": [],
   "source": []
  }
 ],
 "metadata": {
  "kernelspec": {
   "display_name": "Python 3 (ipykernel)",
   "language": "python",
   "name": "python3"
  },
  "language_info": {
   "codemirror_mode": {
    "name": "ipython",
    "version": 3
   },
   "file_extension": ".py",
   "mimetype": "text/x-python",
   "name": "python",
   "nbconvert_exporter": "python",
   "pygments_lexer": "ipython3",
   "version": "3.12.11"
  }
 },
 "nbformat": 4,
 "nbformat_minor": 5
}
